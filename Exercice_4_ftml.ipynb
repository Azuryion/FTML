{
 "cells": [
  {
   "cell_type": "markdown",
   "metadata": {},
   "source": [
    "# 4 - Régression"
   ]
  },
  {
   "cell_type": "markdown",
   "metadata": {},
   "source": [
    " "
   ]
  },
  {
   "cell_type": "markdown",
   "metadata": {},
   "source": [
    "## Imports"
   ]
  },
  {
   "cell_type": "markdown",
   "metadata": {},
   "source": [
    " "
   ]
  },
  {
   "cell_type": "code",
   "execution_count": 1,
   "metadata": {},
   "outputs": [],
   "source": [
    "import numpy as np\n",
    "from sklearn.model_selection import train_test_split\n",
    "from sklearn.model_selection import GridSearchCV\n",
    "from sklearn.ensemble import RandomForestRegressor\n",
    "from sklearn.linear_model import RidgeCV\n",
    "from sklearn.linear_model import Lasso\n",
    "from sklearn.linear_model import LassoCV\n",
    "from sklearn.metrics import r2_score"
   ]
  },
  {
   "cell_type": "markdown",
   "metadata": {},
   "source": [
    "## Chargement et split des données"
   ]
  },
  {
   "cell_type": "markdown",
   "metadata": {},
   "source": [
    " "
   ]
  },
  {
   "cell_type": "code",
   "execution_count": 2,
   "metadata": {},
   "outputs": [],
   "source": [
    "data = np.load(\"regression/inputs.npy\")\n",
    "labels = np.load(\"regression/labels.npy\")\n",
    "X_train, X_test, y_train, y_test = train_test_split(\n",
    "    data, labels, test_size=0.2)"
   ]
  },
  {
   "cell_type": "code",
   "execution_count": 3,
   "metadata": {},
   "outputs": [
    {
     "name": "stdout",
     "output_type": "stream",
     "text": [
      "20000 1000\n",
      "1000 1000\n"
     ]
    }
   ],
   "source": [
    "print(data.size, len(data))\n",
    "print(labels.size, len(labels))"
   ]
  },
  {
   "cell_type": "markdown",
   "metadata": {},
   "source": [
    "## Régression avec RandomForestRegressor"
   ]
  },
  {
   "cell_type": "markdown",
   "metadata": {},
   "source": [
    "#### Le score obtenu avec cet algorithme se basant sur l’assemblage d’arbres de décision est insuffisant, même s'il reste très proche de 0.84"
   ]
  },
  {
   "cell_type": "markdown",
   "metadata": {},
   "source": [
    " "
   ]
  },
  {
   "cell_type": "code",
   "execution_count": 4,
   "metadata": {},
   "outputs": [
    {
     "name": "stdout",
     "output_type": "stream",
     "text": [
      "0.8150698568946618\n"
     ]
    }
   ],
   "source": [
    "clf = RandomForestRegressor(max_depth=10, random_state=0).fit(X_train, y_train.ravel())\n",
    "y_pred = clf.predict(X_test)\n",
    "print(r2_score(y_test, y_pred))"
   ]
  },
  {
   "cell_type": "markdown",
   "metadata": {},
   "source": [
    "## Régression avec ou sans Cross Validation"
   ]
  },
  {
   "cell_type": "markdown",
   "metadata": {},
   "source": [
    "#### Le Cross Validation permet d'optimiser les paramètres du modèle pour que son association avec les données soit la meilleure. Ici, nous comparons l'utilisation du modèle Lasso sur nos données avec et sans utiliser le Cross Validation via GridSearchCV. Le résultat est légèrement supérieur avec l'utilsation de GridSearchCV."
   ]
  },
  {
   "cell_type": "markdown",
   "metadata": {},
   "source": [
    " "
   ]
  },
  {
   "cell_type": "code",
   "execution_count": 5,
   "metadata": {},
   "outputs": [
    {
     "name": "stdout",
     "output_type": "stream",
     "text": [
      "Sans GridSearchCV:  0.876955399233191\n",
      "Avec GridSearchCV:  0.8773139770845589\n"
     ]
    }
   ],
   "source": [
    "clf = Lasso(tol = 0.1).fit(X_train, y_train)\n",
    "y_pred = clf.predict(X_test)\n",
    "print(\"Sans GridSearchCV: \", r2_score(y_test, y_pred))\n",
    "\n",
    "clf_CV = GridSearchCV(Lasso(tol = 0.1), {'alpha': [0.8, 0.9, 1, 1.1, 1.2, 1.3]}).fit(X_train, y_train)\n",
    "y_pred = clf_CV.predict(X_test)\n",
    "print(\"Avec GridSearchCV: \", r2_score(y_test, y_pred))"
   ]
  },
  {
   "cell_type": "markdown",
   "metadata": {},
   "source": [
    "## Régression avec des modèles utilisant directement le Cross Validation"
   ]
  },
  {
   "cell_type": "markdown",
   "metadata": {},
   "source": [
    "#### Nous avons sélectionné deux modèles utilisés régulièrement en régression avec leurs versions Cross Validation (LassoCV & RidgeCV). Les scores obtenus sont très corrects mais pas vraiment différents de ceux obtenus précédemment."
   ]
  },
  {
   "cell_type": "markdown",
   "metadata": {},
   "source": [
    " "
   ]
  },
  {
   "cell_type": "code",
   "execution_count": 6,
   "metadata": {},
   "outputs": [
    {
     "name": "stdout",
     "output_type": "stream",
     "text": [
      "LassoCV: 0.8784394928351198\n",
      "RidgeCV: 0.8795989995577713\n"
     ]
    }
   ],
   "source": [
    "clf_lassoCV = LassoCV(cv=5, random_state=0).fit(X_train, y_train.ravel())\n",
    "y_pred = clf_lassoCV.predict(X_test)\n",
    "print(\"LassoCV:\", r2_score(y_test, y_pred))\n",
    "\n",
    "clf_ridgeCV = RidgeCV(cv=5).fit(X_train, y_train.ravel())\n",
    "y_pred = clf_ridgeCV.predict(X_test)\n",
    "print(\"RidgeCV:\", r2_score(y_test, y_pred))"
   ]
  }
 ],
 "metadata": {
  "kernelspec": {
   "display_name": "Python 3",
   "language": "python",
   "name": "python3"
  },
  "language_info": {
   "codemirror_mode": {
    "name": "ipython",
    "version": 3
   },
   "file_extension": ".py",
   "mimetype": "text/x-python",
   "name": "python",
   "nbconvert_exporter": "python",
   "pygments_lexer": "ipython3",
   "version": "3.8.3"
  }
 },
 "nbformat": 4,
 "nbformat_minor": 4
}
