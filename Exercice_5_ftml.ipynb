{
 "cells": [
  {
   "cell_type": "markdown",
   "id": "3d9eb64e-6f20-44eb-97b4-e16e6643cf10",
   "metadata": {},
   "source": [
    "## Imports"
   ]
  },
  {
   "cell_type": "code",
   "execution_count": 1,
   "id": "a58183a6-f20e-45a6-aaed-7f94987ba243",
   "metadata": {},
   "outputs": [],
   "source": [
    "import numpy as np\n",
    "from sklearn.linear_model import LogisticRegressionCV, RidgeClassifierCV\n",
    "from sklearn.model_selection import train_test_split\n",
    "from sklearn.pipeline import make_pipeline\n",
    "from sklearn.preprocessing import StandardScaler\n",
    "from sklearn.metrics import accuracy_score\n",
    "from sklearn.ensemble import RandomForestClassifier"
   ]
  },
  {
   "cell_type": "markdown",
   "id": "c6d73c8f-28e0-44bb-910b-81f75a3348fd",
   "metadata": {},
   "source": [
    "## Data Exploration"
   ]
  },
  {
   "cell_type": "code",
   "execution_count": 2,
   "id": "c4a4e8fe-93a0-4359-b914-66bb52a8d5cb",
   "metadata": {},
   "outputs": [
    {
     "data": {
      "text/plain": [
       "(1000, 20)"
      ]
     },
     "execution_count": 2,
     "metadata": {},
     "output_type": "execute_result"
    }
   ],
   "source": [
    "inputs = np.load('classification/inputs.npy')\n",
    "inputs.shape"
   ]
  },
  {
   "cell_type": "code",
   "execution_count": 3,
   "id": "72540891-fe20-4ad0-b2d2-3cd373058f68",
   "metadata": {},
   "outputs": [
    {
     "data": {
      "text/plain": [
       "(1000, 1)"
      ]
     },
     "execution_count": 3,
     "metadata": {},
     "output_type": "execute_result"
    }
   ],
   "source": [
    "labels = np .load('classification/labels.npy')\n",
    "labels.shape"
   ]
  },
  {
   "cell_type": "markdown",
   "id": "802056b8-620e-493c-b720-8f29fb7c02c8",
   "metadata": {},
   "source": [
    "## Data preparation"
   ]
  },
  {
   "cell_type": "code",
   "execution_count": 4,
   "id": "b1bdf07b-bb88-4a45-b4fa-ecb716721444",
   "metadata": {},
   "outputs": [],
   "source": [
    "StandardScaler().fit_transform(inputs)\n",
    "X_train, X_test, y_train, y_test = train_test_split(inputs, labels, test_size=0.2, random_state=42)"
   ]
  },
  {
   "cell_type": "code",
   "execution_count": 5,
   "id": "0a8319d0-667a-403c-ae8b-f7f0911132c4",
   "metadata": {},
   "outputs": [
    {
     "name": "stdout",
     "output_type": "stream",
     "text": [
      "X_train : (800, 20)\n",
      "X_test : (200, 20)\n",
      "y_train : (800, 1)\n",
      "y_test : (200, 1)\n"
     ]
    }
   ],
   "source": [
    "print(\"X_train : \" + str(X_train.shape))\n",
    "print(\"X_test : \" + str(X_test.shape))\n",
    "print(\"y_train : \" + str(y_train.shape))\n",
    "print(\"y_test : \" + str(y_test.shape))"
   ]
  },
  {
   "cell_type": "markdown",
   "id": "8eb76caa-26ba-41b3-a337-5aa67ea8d38f",
   "metadata": {},
   "source": [
    "## Ridge Classifier"
   ]
  },
  {
   "cell_type": "code",
   "execution_count": 6,
   "id": "91c4abd8-c803-49fa-afc0-9c34f45e229a",
   "metadata": {},
   "outputs": [
    {
     "name": "stdout",
     "output_type": "stream",
     "text": [
      "Train: 0.89875\n",
      "Test: 0.9\n"
     ]
    }
   ],
   "source": [
    "model = RidgeClassifierCV()\n",
    "model.fit(X_train, y_train.reshape((y_train.shape[0])))\n",
    "\n",
    "predictions = model.predict(X_train)\n",
    "print(\"Train:\", accuracy_score(y_train, predictions))\n",
    "\n",
    "predictions = model.predict(X_test)\n",
    "print(\"Test:\", accuracy_score(y_test, predictions))"
   ]
  },
  {
   "cell_type": "markdown",
   "id": "a8c225a1-6b1d-45d6-ad56-cd4faa9f323c",
   "metadata": {},
   "source": [
    "## Logistic Regression Classifier"
   ]
  },
  {
   "cell_type": "code",
   "execution_count": 10,
   "id": "3f56edb8-f4e7-4573-a803-cd2f68c172e0",
   "metadata": {},
   "outputs": [
    {
     "name": "stdout",
     "output_type": "stream",
     "text": [
      "Train: 0.89625\n",
      "Test: 0.91\n"
     ]
    }
   ],
   "source": [
    "model = LogisticRegressionCV(cv=5, random_state=0)\n",
    "model.fit(X_train, y_train.reshape((y_train.shape[0])))\n",
    "\n",
    "predictions = model.predict(X_train)\n",
    "print(\"Train:\", accuracy_score(y_train, predictions))\n",
    "\n",
    "predictions = model.predict(X_test)\n",
    "print(\"Test:\", accuracy_score(y_test, predictions))"
   ]
  },
  {
   "cell_type": "markdown",
   "id": "467a47f9-8168-4710-ace8-e4a539ac4d4a",
   "metadata": {},
   "source": [
    "## Random Forest Classifier"
   ]
  },
  {
   "cell_type": "code",
   "execution_count": 8,
   "id": "4d5b8c44-b12c-449c-abdb-a9b5b99e6aa9",
   "metadata": {},
   "outputs": [
    {
     "name": "stdout",
     "output_type": "stream",
     "text": [
      "Train: 0.99875\n",
      "Test: 0.845\n"
     ]
    }
   ],
   "source": [
    "model = RandomForestClassifier(max_depth=10, random_state=0)\n",
    "model.fit(X_train, y_train.reshape((y_train.shape[0])))\n",
    "\n",
    "predictions = model.predict(X_train)\n",
    "print(\"Train:\", accuracy_score(y_train, predictions))\n",
    "\n",
    "predictions = model.predict(X_test)\n",
    "print(\"Test:\", accuracy_score(y_test, predictions))"
   ]
  },
  {
   "cell_type": "code",
   "execution_count": null,
   "id": "6cdece02-8619-4d7c-932f-ac329661cccc",
   "metadata": {},
   "outputs": [],
   "source": []
  }
 ],
 "metadata": {
  "kernelspec": {
   "display_name": "Python 3 (ipykernel)",
   "language": "python",
   "name": "python3"
  },
  "language_info": {
   "codemirror_mode": {
    "name": "ipython",
    "version": 3
   },
   "file_extension": ".py",
   "mimetype": "text/x-python",
   "name": "python",
   "nbconvert_exporter": "python",
   "pygments_lexer": "ipython3",
   "version": "3.8.13"
  }
 },
 "nbformat": 4,
 "nbformat_minor": 5
}
